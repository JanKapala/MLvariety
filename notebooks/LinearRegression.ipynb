{
 "cells": [
  {
   "cell_type": "markdown",
   "metadata": {},
   "source": [
    "# Linear Regression"
   ]
  },
  {
   "cell_type": "code",
   "execution_count": null,
   "metadata": {
    "scrolled": false
   },
   "outputs": [],
   "source": [
    "# Import\n",
    "import pandas as pd\n",
    "import numpy as np\n",
    "\n",
    "# Load data\n",
    "dataset = pd.read_csv(\"../dataset/student-mat.csv\", delimiter=\";\")\n",
    "\n",
    "# Select important data\n",
    "important_columns = [\"age\", \"Medu\", \"Fedu\", \"traveltime\", \n",
    "                    \"studytime\", \"failures\", \"famrel\",\n",
    "                     \"freetime\", \"goout\", \"Dalc\", \"Walc\",\n",
    "                    \"health\", \"absences\"]\n",
    "X = dataset.loc[:,important_columns].values\n",
    "Y = dataset.loc[:,\"G3\"].values\n",
    "\n",
    "# Prepare datasets\n",
    "dataset_length = len(X)\n",
    "cv_start_index = int(0.6*dataset_length)\n",
    "test_start_index = int(0.8*dataset_length)\n",
    "\n",
    "X_training = X[:cv_start_index]\n",
    "Y_training = Y[:cv_start_index]\n",
    "X_cv = X[cv_start_index:test_start_index]\n",
    "Y_cv = Y[cv_start_index:test_start_index]\n",
    "X_test = X[test_start_index:]\n",
    "Y_test = Y[test_start_index:]"
   ]
  },
  {
   "cell_type": "code",
   "execution_count": null,
   "metadata": {
    "scrolled": false
   },
   "outputs": [],
   "source": [
    "# Hypothesis function\n",
    "def h(THETA, X):\n",
    "    return X.dot(THETA)"
   ]
  },
  {
   "cell_type": "code",
   "execution_count": null,
   "metadata": {},
   "outputs": [],
   "source": [
    "# Cost function\n",
    "def J(THETA, X, Y):\n",
    "    return 1/(2*len(X)) * np.sum((h(THETA, X)-Y)**2)\n",
    "\n",
    "# Derrivative of cost function respects to i-th THETA parameter\n",
    "def dJ(THETA, X, Y, i):\n",
    "    return 1/(len(X)) * np.sum((h(THETA, X)-Y)*X[:,i])"
   ]
  },
  {
   "cell_type": "code",
   "execution_count": null,
   "metadata": {},
   "outputs": [],
   "source": [
    "# Gradient Descent\n",
    "def gradient_descent(X, Y, a):\n",
    "    THETA = np.zeros(X.shape[1])\n",
    "    while True:\n",
    "        NEW_THETA = np.copy(THETA)\n",
    "        for i in range(len(THETA)):\n",
    "            NEW_THETA[i] = THETA[i] - a*dJ(THETA, X, Y, i)\n",
    "#         print(J(NEW_THETA, X, Y))\n",
    "        print(J(THETA, X, Y))\n",
    "        if J(NEW_THETA, X, Y) <= J(THETA, X, Y):\n",
    "            THETA = NEW_THETA\n",
    "        else:\n",
    "            return THETA"
   ]
  },
  {
   "cell_type": "code",
   "execution_count": null,
   "metadata": {},
   "outputs": [],
   "source": [
    "t = gradient_descent(X_training, Y_training, 0.001)"
   ]
  },
  {
   "cell_type": "code",
   "execution_count": null,
   "metadata": {},
   "outputs": [],
   "source": [
    "print(t)"
   ]
  },
  {
   "cell_type": "code",
   "execution_count": null,
   "metadata": {},
   "outputs": [],
   "source": []
  }
 ],
 "metadata": {
  "kernelspec": {
   "display_name": "Python 3",
   "language": "python",
   "name": "python3"
  },
  "language_info": {
   "codemirror_mode": {
    "name": "ipython",
    "version": 3
   },
   "file_extension": ".py",
   "mimetype": "text/x-python",
   "name": "python",
   "nbconvert_exporter": "python",
   "pygments_lexer": "ipython3",
   "version": "3.6.5"
  }
 },
 "nbformat": 4,
 "nbformat_minor": 2
}
